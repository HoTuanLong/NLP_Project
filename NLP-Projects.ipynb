{
 "cells": [
  {
   "cell_type": "markdown",
   "metadata": {},
   "source": [
    "# Problem 1"
   ]
  },
  {
   "cell_type": "code",
   "execution_count": 9,
   "metadata": {},
   "outputs": [],
   "source": [
    "import math"
   ]
  },
  {
   "cell_type": "code",
   "execution_count": 6,
   "metadata": {},
   "outputs": [],
   "source": [
    "# convert data from txt file to dict\n",
    "dicts = {}\n",
    "i = 0\n",
    "with open(\"W2V_150.txt\") as f:\n",
    "    for lines in f:\n",
    "        i += 1\n",
    "        if i >= 3:\n",
    "            line = lines.split()\n",
    "            key = line[0]\n",
    "            line.pop(0)\n",
    "            val = line\n",
    "            dicts[str(key)] = val\n",
    "            for i in range(0, len(val)):\n",
    "                val[i] = float(val[i])"
   ]
  },
  {
   "cell_type": "code",
   "execution_count": 5,
   "metadata": {},
   "outputs": [],
   "source": [
    "def cosine_similarity(v1,v2):\n",
    "    xx, xy, yy = 0, 0, 0\n",
    "    for i in range(len(v1)):\n",
    "        x = v1[i]; y = v2[i]\n",
    "        xx += x*x\n",
    "        yy += y*y\n",
    "        xy += x*y\n",
    "    return xy/math.sqrt(xx*yy)"
   ]
  },
  {
   "cell_type": "code",
   "execution_count": 25,
   "metadata": {
    "scrolled": true
   },
   "outputs": [],
   "source": [
    "from prettytable import PrettyTable\n",
    "table = PrettyTable(['Word 1', 'Word 2', 'Cosine_similarity'])"
   ]
  },
  {
   "cell_type": "code",
   "execution_count": 26,
   "metadata": {},
   "outputs": [
    {
     "name": "stdout",
     "output_type": "stream",
     "text": [
      "+---------------------+---------------------+------------------------+\n",
      "|        Word 1       |        Word 2       |   Cosine_similarity    |\n",
      "+---------------------+---------------------+------------------------+\n",
      "|         biến        |         ngập        | -0.0049123394696700545 |\n",
      "|     nhà_thi_đấu     |         nhà         |  0.08252318329211768   |\n",
      "|         động        |         tĩnh        |   0.2770859598682775   |\n",
      "|        khuyết       |          ưu         |  0.17679862835626708   |\n",
      "|       cõi_tục       |        cõi_âm       |          NaN           |\n",
      "|       thủ_pháp      |      biện_pháp      |  0.40236612919430603   |\n",
      "|      kết_duyên      |      thành_hôn      |   0.4630084020140725   |\n",
      "|       cấp_tiến      |       bảo_thủ       |   0.2569470088996125   |\n",
      "|       nước_lớn      |      nguy_hiểm      |   0.1851920224021162   |\n",
      "|         hoa         |         nhị         |  0.22306960452548538   |\n",
      "|       bất_lợi       |      thuận_lợi      |   0.5348913029963387   |\n",
      "|       phân_ly       |       sum_họp       |  0.07770108930396219   |\n",
      "|       nói_lắp       |       nói_móc       |          NaN           |\n",
      "|        vây_ép       |      phong_toả      |          NaN           |\n",
      "|      diễu_hành      |      tuần_hành      |   0.6438835401838533   |\n",
      "|       cao_trào      |      thoái_trào     |  0.36103255277281715   |\n",
      "|        thịnh        |         suy         |  0.05960237084921929   |\n",
      "|       con_voi       |         ngà         |  0.23895503536998722   |\n",
      "|       cá_chuối      |        cá_quả       |  0.16647413914742729   |\n",
      "|      đổ_bê_tông     |       biếu_xén      |  -0.17284007209619479  |\n",
      "|        con_đẻ       |       con_ruột      |   0.6417888034717879   |\n",
      "|       uỷ_nhiệm      |      phân_công      |   0.2875352779105757   |\n",
      "|       bay_lượn      |     chuyển_động     |  0.38819716944409427   |\n",
      "|       khêu_gợi      |       khơi_gợi      |   0.2559647287960096   |\n",
      "|      thăng_bằng     |       cân_bằng      |   0.480431942385562    |\n",
      "|       chọn_lựa      |      tuyển_chọn     |  0.47242629887420834   |\n",
      "|        có_ích       |       hữu_ích       |   0.6624093852340641   |\n",
      "|       cứng_rắn      |       nhỏ_nhắn      |   0.2252331499816799   |\n",
      "|      bội_nghĩa      |       biết_ơn       |          NaN           |\n",
      "|        lỗ_đen       |        hố_đen       |   0.7340683342360695   |\n",
      "|         vùi         |         đóng        | -0.013609544519483839  |\n",
      "|      tính_tình      |       tính_khí      |   0.6878254420258132   |\n",
      "|        mục_sư       |       giáo_sĩ       |   0.5964044436335485   |\n",
      "|      cộng_đồng      |       dân_tộc       |   0.3754441422124708   |\n",
      "|          rớ         |          sờ         |  0.38561358220504455   |\n",
      "|       trả_đũa       |       đền_đáp       |   0.2330564641710549   |\n",
      "|       tay_cầm       |       phân_đạm      | -0.030257136838635342  |\n",
      "|       liên_hệ       |      nguỵ_trang     |  0.09239815053322079   |\n",
      "|       mới_tinh      |      mới_toanh      |  0.48129019497587294   |\n",
      "|       cột_trụ       |          bệ         |  0.44302884825973315   |\n",
      "|       họp_mặt       |         tiệc        |   0.4276402056214262   |\n",
      "|       lộn_xộn       |       gọn_gàng      |  0.34353721462857595   |\n",
      "|       chủ_động      |       thụ_động      |   0.4777536040433242   |\n",
      "|         vali        |       tay_cầm       |   0.1659825539911017   |\n",
      "|       đơn_tiết      |        đơn_âm       |          NaN           |\n",
      "|       ghen_tị       |      ghen_ghét      |   0.3518800216281461   |\n",
      "|     ngả_nghiêng     |       sờn_lòng      |          NaN           |\n",
      "|     ngôn_ngữ_học    |       khoa_học      |   0.5372508509460164   |\n",
      "|         vẹo         |        vẹo_vọ       |          NaN           |\n",
      "|       thu_gom       |       tiếp_sức      |  0.17018185671127567   |\n",
      "|      quy_trình      |       sáng_tác      |  -0.09567834469126145  |\n",
      "|      thành_thị      |      thị_thành      |   0.4058112852321533   |\n",
      "|      nhảy_nhót      |        nhích        |  0.17700723858902045   |\n",
      "|        ly_tâm       |      hướng_tâm      |  0.09295287557078626   |\n",
      "|         cống        |      đường_ống      |   0.6561799539297558   |\n",
      "|         còm         |       nhỏ_nhoi      |   0.1591479363526457   |\n",
      "|      bánh_răng      |         răng        |   0.2573998625832936   |\n",
      "|       nao_núng      |      kiên_định      |   0.2518184385854666   |\n",
      "|       bằng_hữu      |       bầu_bạn       |   0.3138728888635595   |\n",
      "|         thân        |         lưng        |   0.307931326993421    |\n",
      "|       bút_chì       |          lô         |  0.14150346138857586   |\n",
      "|         cổng        |        ổ_khoá       |   0.3536777035092059   |\n",
      "|        dị_bản       |       đĩa_bay       |   0.1663000825054999   |\n",
      "|     nguây_nguẩy     |     ngúng_nguẩy     |          NaN           |\n",
      "|      biên_nhận      |      ứng_chiến      |          NaN           |\n",
      "|       truy_cập      |      thâm_nhập      |   0.4902856154449485   |\n",
      "|       chỉ_định      |        hạ_bút       |          NaN           |\n",
      "|          âm         |      nguy_hiểm      |   0.0902421933016787   |\n",
      "|      thăng_trầm     |       khô_kiệt      | -0.009955192323517744  |\n",
      "|       thay_thế      |       biến_đổi      |  0.18305778374734585   |\n",
      "|       ban_công      |       lan_can       |   0.5501337928711706   |\n",
      "|         dưới        |         trên        |  0.21009877021166767   |\n",
      "|       kháng_cự      |       phản_đối      |  0.054426488290612376  |\n",
      "|         cầm         |        rờ_mó        |          NaN           |\n",
      "|          vế         |        vai_vế       |  0.19459174867201634   |\n",
      "|      vắng_lặng      |        ồn_ào        |   0.5530819388468132   |\n",
      "|      xót_thương     |       đau_lòng      |   0.5396216352705177   |\n",
      "|       găng_tay      |       quần_áo       |   0.4447774501118986   |\n",
      "|       lộp_bộp       |       lộp_độp       |          NaN           |\n",
      "|    sinh_vật_cảnh    |       đồng_dao      |  0.18252869545755532   |\n",
      "|         lặn         |         mọc         |  0.18843272864163033   |\n",
      "|       bồ_bịch       |      nhân_tình      |  0.43056757732347745   |\n",
      "|      bằng_chứng     |       chứng_cứ      |   0.7283479572944089   |\n",
      "|        hạ_màn       |        mở_màn       |  0.48128296649134505   |\n",
      "|       ca_tụng       |       đoàn_kết      |  0.06165375134763973   |\n",
      "|         ngày        |         đêm         |    0.50182926552691    |\n",
      "|       lan_can       |         rào         |  0.49719492878886495   |\n",
      "|       trở_lại       |      đảo_ngược      |   0.2640552460341624   |\n",
      "|       nhạc_nhẹ      |       tiểu_học      |  -0.00823541922273465  |\n",
      "|        tự_do        |       đức_tính      |  0.001607014575462123  |\n",
      "|       hợp_nhất      |       liên_kết      |   0.3381737506042729   |\n",
      "|      hoàng_tộc      |      hoàng_gia      |   0.433463605541253    |\n",
      "|       đầu_mối       |         chỗ         |  0.16435135139844612   |\n",
      "|      tinh_luyện     |       hoá_lỏng      |   0.3489107092225541   |\n",
      "|       bí_hiểm       |        bí_mật       |   0.2876447889689539   |\n",
      "|      chung_tình     |       phụ_bạc       |  0.39929497278315346   |\n",
      "|       bàn_cãi       |       cân_nhắc      |   0.2770686674587825   |\n",
      "|       nhảy_cao      |       ném_đĩa       |  0.47279604614419496   |\n",
      "|       bánh_hỏi      |       bánh_giò      |          NaN           |\n",
      "|     tiếng_chuông    |       âm_thanh      |   0.3806990925318216   |\n",
      "|       tha_thẩn      |       thơ_thẩn      |   0.6520561739956895   |\n",
      "|       phôi_bào      |        tế_bào       |          NaN           |\n",
      "|        thuyền       |       bánh_lái      |  0.39575242059890203   |\n",
      "|         nấp         |         hiện        |   0.0370293074743941   |\n",
      "|         cất         |         giấu        |  0.42559370637688404   |\n",
      "|          âm         |         gốc         |   0.3002582475972696   |\n",
      "|         đặt         |       thả_lỏng      |   0.1178881868411359   |\n",
      "|      chỉnh_hình     |       tiểu_học      |   0.1193027386988029   |\n",
      "|         tẩy         |         cạn         |  0.14183917722562264   |\n",
      "|      cây_trồng      |       đĩa_bay       |  0.10001389172491257   |\n",
      "|      chỉnh_hình     |        luồng        |  -0.1734085621540297   |\n",
      "|     màng_tế_bào     |    bảng_tổng_sắp    | -0.019664365856755857  |\n",
      "|      ngót_nghét     |        xấp_xỉ       |   0.4330850916404248   |\n",
      "|      biến_động      |       cố_định       |   0.2388965584326305   |\n",
      "|     khuyết_điểm     |       ưu_điểm       |  0.39247415819755754   |\n",
      "|      nhạo_báng      |      khiếm_nhã      |   0.4791904396921674   |\n",
      "|         hại         |         lợi         |  0.23100268082177483   |\n",
      "|       bướu_cổ       |       bệnh_tật      |  0.39499832898781256   |\n",
      "|      cây_thuốc      |     cây_hoa_màu     |  0.36495798502767884   |\n",
      "|       tinh_lọc      |       tinh_chế      |   0.5270150819554983   |\n",
      "|       tăm_dạng      |      tung_tích      |          NaN           |\n",
      "|       bức_bối       |      nguỵ_trang     |  -0.04568560756811624  |\n",
      "|       thân_thể      |         đầu         |  -0.04944032913153987  |\n",
      "|       thừa_thế      |       hằn_học       |          NaN           |\n",
      "|      quỷ_quyệt      |      xảo_quyệt      |   0.6348067524315942   |\n",
      "|      hoang_phí      |       hà_tiện       |   0.5036435709308656   |\n",
      "|       cóp_nhặt      |       để_dành       |  0.15002384579859196   |\n",
      "|         may         |         rủi         |  0.07522659536547079   |\n",
      "|         tum         |       chân_vịt      |  0.18165490346597898   |\n",
      "|         nhạo        |         vèo         |  0.15451682858848503   |\n",
      "|       ngoại_lệ      |      thường_lệ      |  -0.03716774487133832  |\n",
      "|       phong_độ      |      phong_thái     |   0.3701265297005582   |\n",
      "|       biết_ơn       |        vô_ơn        |  0.28601100050751826   |\n",
      "|       buồn_bã       |       nối_tiếp      |  0.09990871301551095   |\n",
      "|         quay        |     chuyển_hướng    |  0.29619814995280885   |\n",
      "|       tập_dượt      |      tập_luyện      |   0.4343145027357161   |\n",
      "|       oxy_hoá       |       đổi_thay      |  0.11986410627414437   |\n",
      "|         trà         |         bụi         |  0.22222659830449643   |\n",
      "|        phỏng        |         mảnh        |  0.08176410293427971   |\n",
      "|      phòng_ngủ      |    công_trình_phụ   |   0.2815387476802429   |\n",
      "|       hình_hoạ      |       cung_bậc      |  0.16802562529114887   |\n",
      "|         hoạ         |         phúc        |  0.11699808527980947   |\n",
      "|       nửa_mùa       |      đồng_điệu      | -0.011829051147234843  |\n",
      "|      thịnh_hành     |       hữu_tình      |  0.07773202880372385   |\n",
      "|       biệt_ly       |       sum_họp       |          NaN           |\n",
      "|       phụ_bản       |        nếp_tẻ       |          NaN           |\n",
      "|       lời_lãi       |       thua_lỗ       |   0.2665077694367288   |\n",
      "|      con_đường      |        vỉa_hè       |   0.3117406057866713   |\n",
      "|     chính_nghĩa     |      phi_nghĩa      |   0.5570493833559036   |\n",
      "|      trần_gian      |        cõi_âm       |   0.3462440983410394   |\n",
      "|        vượng        |         suy         |  0.008037526967852015  |\n",
      "|      lắng_nghe      |       lắng_tai      |          NaN           |\n",
      "|        ấp_úng       |         nói         |   0.2105143092497646   |\n",
      "|       thất_bại      |      thành_công     |   0.466456765705293    |\n",
      "|       đa_ngôn       |      mỏng_tang      |          NaN           |\n",
      "|        ái_mộ        |        hâm_mộ       |  0.46916483596133296   |\n",
      "|        tí_ti        |        tí_teo       |          NaN           |\n",
      "|       nỗi_đau       |       tai_hoạ       |  0.49030415677745215   |\n",
      "|      dương_gian     |        cõi_âm       |          NaN           |\n",
      "|       phân_tử       |        nếp_tẻ       |          NaN           |\n",
      "|       định_kỳ       |      bất_thường     |   0.1438635231004212   |\n",
      "|        trước        |         sau         |   0.5766044993249189   |\n",
      "|      đánh_bóng      |       làm_đẹp       |   0.3821435174904366   |\n",
      "|         đoán        |       quan_sát      |   0.320328020765482    |\n",
      "|       đồ_dùng       |        đồ_vật       |   0.5749492271691554   |\n",
      "|       giải_tán      |       tập_hợp       |   0.1938966956439719   |\n",
      "|         nhóm        |       liên_kết      |  0.24164795397083647   |\n",
      "|       đầu_tiên      |      cuối_cùng      |   0.5106627798317872   |\n",
      "|       hảo_hữu       |      người_thân     |          NaN           |\n",
      "|        quyển        |         bìa         |  0.20940313081938836   |\n",
      "|      vượt_tuyến     |       hằn_học       | -0.029710370501402895  |\n",
      "|      chiến_bại      |      thắng_lợi      |  0.28370160496148616   |\n",
      "|       bành_tô       |         khăn        |          NaN           |\n",
      "|        đỡ_đần       |      bình_luận      |   0.0170152642647345   |\n",
      "|          hạ         |         tăng        |  0.35986945925270414   |\n",
      "|         tợn         |         hiền        |          NaN           |\n",
      "|       bội_bạc       |      chung_thuỷ     |   0.3397885209729341   |\n",
      "|       nhà_máy       |      dây_chuyền     |  0.35946235162793316   |\n",
      "|       tàu_hoả       |     xe_điện_ngầm    |  0.42191050663780033   |\n",
      "|         thuở        |         thủa        |   0.8614688965162304   |\n",
      "|        tranh        |      trông_nom      |  -0.03336303444684784  |\n",
      "|     cây_thân_gỗ     |         cành        |          NaN           |\n",
      "|         xuôi        |        ngược        |   0.314797011448048    |\n",
      "|      biên_nhận      |         móc         | 0.0038128645074774477  |\n",
      "|       thi_hành      |         bắt         |  0.058758192228966166  |\n",
      "|       cự_tuyệt      |        bãi_bỏ       |   0.396839191719371    |\n",
      "|       thi_đấu       |       phá_vây       |          NaN           |\n",
      "|      hiện_trạng     |      tình_cảnh      |  0.19672622271313017   |\n",
      "|      vượt_tuyến     |       dứt_điểm      |  0.25933155773078476   |\n",
      "|       cá_hồng       |       cá_chai       |          NaN           |\n",
      "|         bằng        |       văn_bằng      |  0.055385338799636356  |\n",
      "|      tĩnh_dưỡng     |       lộn_xộn       |  -0.02129497229459221  |\n",
      "|       bạc_đãi       |      trọng_đãi      |          NaN           |\n",
      "|       phân_li       |       đoàn_tụ       |          NaN           |\n",
      "|         nhốt        |         thả         |   0.3982852543031887   |\n",
      "|       nội_tiết      |        huyệt        |  0.18902841445299554   |\n",
      "|       phụ_bản       |     truyện_tranh    |  0.34742932256996956   |\n",
      "|      phong_thư      |       địa_chỉ       |  0.24974902912087063   |\n",
      "|      thời_bình      |      thời_chiến     |   0.6089198433181577   |\n",
      "|       áo_quan       |       quan_tài      |   0.6755826366795626   |\n",
      "|       trẩy_hội      |          ví         |   0.0531405548126111   |\n",
      "|      nhức_nhối      |      nhấp_nhỏm      |          NaN           |\n",
      "|        cũ_kỹ        |        mới_mẻ       |  0.32329093548038457   |\n",
      "|         nhạo        |        hạ_bút       |          NaN           |\n",
      "|     sân_vận_động    |       khán_đài      |   0.5706996461650233   |\n",
      "| chủ_nghĩa_hình_thức |     truyện_tranh    |          NaN           |\n",
      "|         được        |         mất         | -0.005103764065359729  |\n",
      "|         hiểu        |      tiên_lượng     |   0.2526270231473787   |\n",
      "|       quét_dọn      |       loại_bỏ       |  0.045425622535701954  |\n",
      "|       bay_hơi       |         bay         |   0.1485309587805349   |\n",
      "|       dễ_dàng       |       khó_khăn      |   0.4268793652882255   |\n",
      "|          gạ         |        gạ_gẫm       |   0.6700650441380148   |\n",
      "|      vắng_tanh      |      lịch_bịch      |          NaN           |\n",
      "|      nhậm_chức      |      nhiệm_chức     |   0.3141633263083571   |\n",
      "|        hồ_sơ        |       bằng_cớ       |          NaN           |\n",
      "|       hổ_thẹn       |       bắt_buộc      |   0.2882365439992505   |\n",
      "|       dấu_hiệu      |      đặc_trưng      |  0.12474992364601213   |\n",
      "|      người_dân      |      tộc_người      |  0.34523843669548065   |\n",
      "|       bè_cánh       |       vây_cánh      |          NaN           |\n",
      "|       bật_lửa       |       giảm_xóc      |   0.1767910368689937   |\n",
      "|    sinh_vật_cảnh    |     không_trung     |   0.0710615379400831   |\n",
      "|       chần_chờ      |      dứt_khoát      |  -0.08150806029953668  |\n",
      "|        tư_thế       |      phong_thái     |   0.3356669673410032   |\n",
      "|     máy_vi_tính     |         phím        |   0.2332012292070552   |\n",
      "|        sụp_đổ       |       kìm_nén       |   0.2213755187988625   |\n",
      "|       mắc_kẹt       |       cầm_giữ       |  0.47463479965705185   |\n",
      "|       hình_hoạ      |      khí_quyển      |  0.09329309110204236   |\n",
      "|      thuộc_địa      |       kiều_dân      |    0.32038918929697    |\n",
      "|       nhà_hát       |       sân_khấu      |  0.44064836024327386   |\n",
      "|         thìa        |        muỗng        |   0.8422977453212416   |\n",
      "|          tỏ         |       biểu_lộ       |  0.49757481319560115   |\n",
      "|     chiến_tranh     |      trận_chiến     |   0.4115581048163305   |\n",
      "|         cộc         |          va         |  0.034025767434323874  |\n",
      "|       tính_sổ       |    giám_đốc_thẩm    |  0.030978479246472908  |\n",
      "|         hơn         |         thua        |  0.08605219900956887   |\n",
      "|       cựu_binh      |       tân_binh      |  0.45581411434867436   |\n",
      "|       tính_sổ       |      nuôi_dưỡng     |  0.07438552352594877   |\n",
      "|       ngữ_cảnh      |       văn_cảnh      |          NaN           |\n",
      "|       hâm_nóng      |       cải_biến      |   0.3909738620022827   |\n",
      "|         bón         |         tẩm         |  0.22687194401456268   |\n",
      "|         thảm        |       thê_thảm      |  0.21824307524141243   |\n",
      "|       lắp_đặt       |      nhồi_nhét      |  0.08913522264813221   |\n",
      "|       tạo_hoá       |       tạo_vật       |  0.29902520106436076   |\n",
      "|         hen         |         cúm         |  0.33930907846790204   |\n",
      "|       mệt_mỏi       |       mỏi_mệt       |   0.7741543992805747   |\n",
      "|      tắc_nghẽn      |      thông_suốt     |  0.36459718913377703   |\n",
      "|        trọng        |      coi_trọng      |   0.382431498432439    |\n",
      "|         đẽo         |         bắt         |  0.06499285201502493   |\n",
      "|       len_lách      |       len_lỏi       |          NaN           |\n",
      "|          hú         |          ca         |   0.1464250343019972   |\n",
      "|      danh_sách      |         mục         |  0.25190297932721717   |\n",
      "|    chuyển_nhượng    |       phát_mại      |  0.18257703468211922   |\n",
      "|       vòng_tay      |      trang_sức      |  0.11202609620054432   |\n",
      "|      đổ_bê_tông     |       chăm_sóc      |  0.05597905630836102   |\n",
      "|         kín         |         phát        |  0.018338220644070428  |\n",
      "|      người_tình     |       chiến_sĩ      |  0.10625734688523503   |\n",
      "|         cuối        |         đầu         |   0.6423954310858535   |\n",
      "|       cần_tây       |       đậu_bắp       |   0.5502537205294663   |\n",
      "|       định_kì       |      bất_thường     |  0.15856256685433018   |\n",
      "|      thiện_chí      |         ác_ý        |   0.3047469014202976   |\n",
      "|      biên_cương     |      biên_giới      |  0.35563124319080813   |\n",
      "|         sông        |       cửa_sông      |   0.6408591579368889   |\n",
      "|         tím         |         bẹp         |  0.10812724165852337   |\n",
      "|     năm_âm_lịch     |    tháng_âm_lịch    |   0.5719292130062957   |\n",
      "|        đỡ_đần       |       suy_xét       |   0.1546896504490784   |\n",
      "|         bầm         |          mệ         |  0.04145193685409564   |\n",
      "|         dáng        |        tản_bộ       |   0.1009169482083195   |\n",
      "|       sinh_vật      |        tế_bào       |   0.4987182279416984   |\n",
      "|       giở_quẻ       |      giở_chứng      |          NaN           |\n",
      "|         nhau        |         rau         |  0.11630711350656078   |\n",
      "|      đồng_tình      |       phản_đối      |  0.29063934887732484   |\n",
      "|        thanh        |       dụng_cụ       |  0.14819665087209496   |\n",
      "|         điệu        |         háo         |   0.1080234578589992   |\n",
      "|       tử_trận       |       tiếp_sức      |  0.08307659943912202   |\n",
      "|       trù_dập       |        trù_úm       |   0.5963759133200227   |\n",
      "|        tứ_kết       |       trận_đấu      |   0.4006946060995245   |\n",
      "|       tình_ca       |       ca_khúc       |  0.48318380838975156   |\n",
      "|        báo_ân       |       trả_thù       |  0.08692982854633986   |\n",
      "|       vững_tâm      |      vững_lòng      |  0.41541673856196865   |\n",
      "|       cũ_rích       |        mới_mẻ       |  0.19345520749942516   |\n",
      "|         lành        |         kẹt         |  0.028052706758601612  |\n",
      "|          tù         |         ngục        |  0.30755466764509987   |\n",
      "| chủ_nghĩa_hình_thức |       đức_tính      |          NaN           |\n",
      "|       dày_cộp       |      mỏng_tang      |   0.3174415682631985   |\n",
      "|      cây_trồng      | thầy_thuốc_nhân_dân |  0.09141503336475966   |\n",
      "|      điều_hành      |       lục_lọi       |  0.012591047143755479  |\n",
      "|       dáng_bộ       |      dáng_điệu      |          NaN           |\n",
      "|        tự_do        |      phần_cứng      | 0.0035618958136457513  |\n",
      "|       thu_ngân      |        dân_cư       |  0.10090909433832684   |\n",
      "|         cắt         |         tẩm         |  0.10504266823172605   |\n",
      "|      nghị_quyết     |       tài_liệu      |   0.1657149419564549   |\n",
      "|       ăn_nhậu       |      nhậu_nhẹt      |   0.7283213214108304   |\n",
      "|       gắn_kết       |       liên_kết      |   0.6876932730294391   |\n",
      "|       máy_tính      |     bộ_vi_xử_lý     |   0.5077456024563395   |\n",
      "|      cải_thiện      |      thuần_hoá      |  0.21408350286406627   |\n",
      "|       năng_lực      |        tột_độ       | -0.013589524766159518  |\n",
      "|       an_dưỡng      |      tĩnh_dưỡng     |   0.5461646248126152   |\n",
      "|      di_chuyển      |         dời         |   0.3391936552143548   |\n",
      "|        ngoài        |        trong        |  0.12121632852072156   |\n",
      "|         cặp         |         đôi         |   0.3751939726641789   |\n",
      "|         cẳng        |       bắp_chân      |   0.3039713821404868   |\n",
      "|     chiến_tranh     |       hoà_bình      |   0.3458204697154301   |\n",
      "|       đau_đớn       |      làm_phiền      |  0.06940581189870462   |\n",
      "|       gia_tăng      |       lạm_phát      |  0.19862973632444034   |\n",
      "|         thói        |       thái_độ       |   0.4377516668004628   |\n",
      "|       mô_hình       |       cấu_trúc      |    0.4213006540116     |\n",
      "|       mạo_danh      |       lừa_đảo       |   0.6075960108364693   |\n",
      "|         sếp         |       lãnh_đạo      |  0.32489756762342725   |\n",
      "|         thẻ         |        kỉ_vật       |  0.11121940691909847   |\n",
      "|         hỏi         |         đáp         |  0.40375833664190314   |\n",
      "|        tản_bộ       |      di_chuyển      |  0.38944377934967533   |\n",
      "|     chuệch_choạc    |     chệch_choạc     |   0.7733680092570683   |\n",
      "|      dương_gian     |        âm_phủ       |          NaN           |\n",
      "|      giải_thích     |         ngấm        |  0.09437074910605767   |\n",
      "|         mách        |      mách_nước      |   0.5305708447274696   |\n",
      "|       nước_lớn      |       xuất_xứ       |  0.08348869272935446   |\n",
      "|        số_hoá       |       hoá_lỏng      |   0.1385535679022259   |\n",
      "|         dận         |         nhấn        |          NaN           |\n",
      "|      hơi_hướng      |       hơi_hám       |          NaN           |\n",
      "|       cắt_giảm      |       trừ_khử       |   0.1593352076057236   |\n",
      "|       nhạc_nhẹ      |       cung_bậc      |  0.15172684174398726   |\n",
      "|       túm_tụm       |       quần_tụ       |  0.33966883069484094   |\n",
      "|       giở_mặt       |       lật_lọng      |          NaN           |\n",
      "|       thị_giác      |       võng_mạc      |   0.450930448508445    |\n",
      "|      người_làm      |       dân_chơi      |   0.1550871162702752   |\n",
      "|      phân_chia      |       phân_bổ       |   0.5284669282716832   |\n",
      "|       xâm_nhập      |        xuyên        |   0.1992037674039463   |\n",
      "|       thuộc_hạ      |      người_lớn      |  0.20046350783200334   |\n",
      "|     dịch_chuyển     |       tham_gia      |  0.031247773465155088  |\n",
      "|         bơi         |         ngụp        |   0.4405755323605985   |\n",
      "|        cư_dân       |      người_dân      |   0.5834579031319869   |\n",
      "|      khoan_thai     |       ung_dung      |   0.3150380450984242   |\n",
      "|        xe_tải       |         nóc         |   0.1310240792104085   |\n",
      "|       mùa_đông      |       đông_chí      |  0.33914856777902747   |\n",
      "|       lạc_hậu       |      tiên_tiến      |  0.29942642246217616   |\n",
      "|      chọc_ghẹo      |       biếu_xén      |  0.25047609054912034   |\n",
      "|         nền         |       cận_cảnh      |  -0.1170922084129831   |\n",
      "|        sư_tử        |      lăng_kính      |  0.00799026045969754   |\n",
      "|         bẫy         |         cạm         |          NaN           |\n",
      "|       nhảy_múa      |       nhẩy_múa      |          NaN           |\n",
      "|       minh_oan      |       phá_vây       |          NaN           |\n",
      "|     nguyên_nhân     |      nguyên_do      |   0.8179892267593377   |\n",
      "|          dữ         |         hiền        |  0.15042709634133447   |\n",
      "|       phần_phụ      |       bộ_phận       |  0.19914344122783623   |\n",
      "|       anh_dũng      |      dũng_mãnh      |  0.14807725543257402   |\n",
      "|       buôn_bán      |       vận_tải       |  0.19001757095205227   |\n",
      "|      khấp_khểnh     |      gập_ghềnh      |          NaN           |\n",
      "|       đâm_sầm       |        phóng        |  0.32445784354190865   |\n",
      "|          bò         |          đi         | -0.0008110941303698984 |\n",
      "|        yểm_hộ       |       yểm_trợ       |          NaN           |\n",
      "|      vòng_vòng      |      ngoại_tiếp     |          NaN           |\n",
      "|       nội_tiết      |        luồng        |  0.005273336871372695  |\n",
      "|        dị_ứng       |      lương_tri      | -0.011613802522149762  |\n",
      "|       trẩy_hội      |      ứng_chiến      |          NaN           |\n",
      "|         vặn         |       vặn_vẹo       |  0.33296607923348137   |\n",
      "|      lùng_bùng      |      vắng_ngắt      |   0.179950181886295    |\n",
      "|         chê         |         khen        |  0.25811458928916686   |\n",
      "|      tượng_đài      |    bảng_tổng_sắp    |  0.06362501672097448   |\n",
      "|      người_yêu      |      tình_nhân      |   0.4074055863436807   |\n",
      "|      thiện_cảm      |        ác_cảm       |   0.5909680719076434   |\n",
      "|      trau_chuốt     |      phát_triển     |  0.13353498403895528   |\n",
      "|         gươm        |         lưỡi        |   0.2521803255020298   |\n",
      "|       bánh_xe       |         vành        |   0.4621548455520126   |\n",
      "|      tượng_đài      |       phân_bón      |  -0.08608104825305285  |\n",
      "|         nạc         |         búi         |  0.14359299098434866   |\n",
      "|     khung_thành     |       cầu_môn       |   0.9057290306863828   |\n",
      "|          kĩ         |        sơ_sài       |  0.35760964895937736   |\n",
      "|         buồn        |         vui         |   0.6325065472381486   |\n",
      "|      nhược_điểm     |       ưu_điểm       |   0.6970440205524108   |\n",
      "|       quan_hệ       |      trạng_thái     |   0.1792190013315711   |\n",
      "|       đong_đưa      |       vung_vẩy      |   0.372503751184449    |\n",
      "|       bừa_bãi       |       gọn_ghẽ       |  0.16428640446301582   |\n",
      "|     nghiêm_lệnh     |       đồng_dao      |          NaN           |\n",
      "|       nhà_thơ       |       thi_nhân      |   0.6541988461158458   |\n",
      "|       máy_tính      |       vi_xử_lý      |   0.4372469749456565   |\n",
      "|       né_tránh      |         hích        |  0.08713397403587103   |\n",
      "|         địch        |          ta         |  0.34103695302656223   |\n",
      "|      lưu_thông      |       ách_tắc       |   0.2946165921960063   |\n",
      "|       thứ_yếu       |       rộng_rãi      |  0.03854739022579877   |\n",
      "|       đặt_chân      |         thay        |  0.20622362094102545   |\n",
      "|        dì_ghẻ       |      phụ_huynh      |  0.24376703521286533   |\n",
      "|         rỗi         |       rỗi_rãi       |   0.5151665388049851   |\n",
      "|       tái_phát      |     nhiễm_khuẩn     |  0.40951605781358047   |\n",
      "|         mầm         |       rau_quả       |  0.19994660282373256   |\n",
      "|       hạn_hán       |       lụt_lội       |   0.6742159346587002   |\n",
      "|       lưỡng_lự      |      dứt_khoát      |  0.23061574870977242   |\n",
      "|         tung        |       cấp_phát      |  0.18357208112406495   |\n",
      "|         giầu        |         khó         |   0.1369678253873588   |\n",
      "|       làm_đẹp       |       cải_tạo       |   0.1845901522102159   |\n",
      "|       ban_mai       |       sớm_mai       |   0.4767118176565457   |\n",
      "|         quỳ         |          ví         |  0.05671383013487904   |\n",
      "|        bại_lộ       |          lộ         |   0.4707670017324487   |\n",
      "|      tính_cách      |      phẩm_chất      |  0.49444653442780034   |\n",
      "|      triều_đại      |        cổ_đại       |   0.274375856384894    |\n",
      "|      cõi_dương      |        cõi_âm       |          NaN           |\n",
      "|      lình_xình      |      nặng_tình      |  0.17049420746310412   |\n",
      "|      người_làm      |     người_bị_hại    |  0.13500791866154055   |\n",
      "|       cõi_tục       |      trần_gian      |          NaN           |\n",
      "|       chần_chừ      |       lảo_đảo       |  0.11293908545899889   |\n",
      "|      khử_trùng      |      sát_trùng      |   0.7052270180481737   |\n",
      "+---------------------+---------------------+------------------------+\n"
     ]
    }
   ],
   "source": [
    "from scipy import stats\n",
    "i = 0\n",
    "with open(\"ViSim-400.txt\") as f:\n",
    "    for lines in f:\n",
    "        i += 1\n",
    "        if i > 1:\n",
    "            line = lines.split()\n",
    "            if line[0] in dicts.keys() and line[1] in dicts.keys():\n",
    "                v1 = dicts.get(line[0])        \n",
    "                v2 = dicts.get(line[1])\n",
    "                table.add_row([line[0], line[1], cosine_similarity(v1, v2)])\n",
    "            else:\n",
    "                table.add_row([line[0], line[1], 'NaN'])\n",
    "print(table)"
   ]
  },
  {
   "cell_type": "markdown",
   "metadata": {},
   "source": [
    "# Problem 2"
   ]
  },
  {
   "cell_type": "code",
   "execution_count": 35,
   "metadata": {},
   "outputs": [
    {
     "name": "stdout",
     "output_type": "stream",
     "text": [
      "10\n",
      "tiết_lộ\n",
      "('hé_lộ', 0.8141896754726131)\n",
      "('bật_mí', 0.6960303061638391)\n",
      "('công_bố', 0.5812819713581816)\n",
      "('xác_nhận', 0.5785359220947899)\n",
      "('thổ_lộ', 0.5612686986844789)\n",
      "('phát_hiện_ra', 0.5585788908739554)\n",
      "('loan_báo', 0.5559826694440024)\n",
      "('khám_phá_ra', 0.5496182853839372)\n",
      "('thú_nhận', 0.5479432813714646)\n",
      "('úp_mở', 0.5438636450711214)\n"
     ]
    }
   ],
   "source": [
    "import operator\n",
    "\n",
    "k = int(input())\n",
    "word = input()\n",
    "sim_mp = {}\n",
    "if word in dicts.keys():\n",
    "    for key in dicts:\n",
    "        if (word != key):\n",
    "            sim_mp[key] = cosine_similarity(dicts.get(word), dicts.get(key))\n",
    "    sim_mp = sorted(sim_mp.items(), key=operator.itemgetter(1), reverse=True)\n",
    "    key_list = list(sim_mp)\n",
    "    for i in range(k):\n",
    "        print(key_list[i])"
   ]
  },
  {
   "cell_type": "markdown",
   "metadata": {},
   "source": [
    "# Problem 3"
   ]
  },
  {
   "cell_type": "code",
   "execution_count": 47,
   "metadata": {},
   "outputs": [],
   "source": [
    "from sklearn.linear_model import LogisticRegression\n",
    "from sklearn.model_selection import train_test_split\n",
    "import numpy as np"
   ]
  },
  {
   "cell_type": "code",
   "execution_count": 48,
   "metadata": {},
   "outputs": [],
   "source": [
    "w2v_file = open(\"W2V_150.txt\", encoding='utf8')\n",
    "antonym_file = open(\"Antonym_vietnamese.txt\", encoding='utf8')\n",
    "synonym_file = open(\"Synonym_vietnamese.txt\", encoding='utf8')"
   ]
  },
  {
   "cell_type": "code",
   "execution_count": 49,
   "metadata": {},
   "outputs": [],
   "source": [
    "antonym_lines = [line for line in antonym_file.readlines()]"
   ]
  },
  {
   "cell_type": "code",
   "execution_count": 50,
   "metadata": {},
   "outputs": [],
   "source": [
    "synonym_lines = [line for line in synonym_file.readlines()]"
   ]
  },
  {
   "cell_type": "code",
   "execution_count": 51,
   "metadata": {},
   "outputs": [],
   "source": [
    "words = [line for line in w2v_file.readlines()]\n",
    "num_of_words = words[0]\n",
    "dims = words[1]\n",
    "words = words[2:]"
   ]
  },
  {
   "cell_type": "code",
   "execution_count": 52,
   "metadata": {},
   "outputs": [],
   "source": [
    "arr_words = []\n",
    "embedding = {}"
   ]
  },
  {
   "cell_type": "code",
   "execution_count": 53,
   "metadata": {},
   "outputs": [],
   "source": [
    "for idx, w in enumerate(words):\n",
    "    arr_words = words[idx].split(' ')\n",
    "    word = arr_words[0]\n",
    "    weight = []\n",
    "    for i in arr_words[2:len(arr_words)-1]:\n",
    "        weight.append(float(i))\n",
    "    embedding[word] = np.array(weight)"
   ]
  },
  {
   "cell_type": "code",
   "execution_count": 54,
   "metadata": {},
   "outputs": [],
   "source": [
    "antonym_word1 = []\n",
    "antonym_word2 = []\n",
    "synonym_word1 = []\n",
    "synonym_word2 = []\n",
    "\n",
    "for idx, w in enumerate(antonym_lines):\n",
    "    arr_words = antonym_lines[idx].split(' ')\n",
    "    antonym_word1.append(arr_words[0])\n",
    "    antonym_word2.append(arr_words[1].split('\\n')[0])\n",
    "\n",
    "for idx, w in enumerate(synonym_lines):\n",
    "    arr_words = synonym_lines[idx].split(' ')\n",
    "    synonym_word1.append(arr_words[0])\n",
    "    synonym_word2.append(arr_words[1].split('\\n')[0])"
   ]
  },
  {
   "cell_type": "code",
   "execution_count": 70,
   "metadata": {},
   "outputs": [],
   "source": [
    "word_not_in_w2v = []\n",
    "for w in antonym_word1:\n",
    "    if w not in dicts.keys():\n",
    "        word_not_in_w2v.append(w)\n",
    "for w in antonym_word2:\n",
    "    if w not in dicts.keys():\n",
    "        word_not_in_w2v.append(w)\n",
    "for w in synonym_word1:\n",
    "    if w not in dicts.keys():\n",
    "        word_not_in_w2v.append(w)\n",
    "for w in synonym_word2:\n",
    "    if w not in dicts.keys():\n",
    "        word_not_in_w2v.append(w)"
   ]
  },
  {
   "cell_type": "code",
   "execution_count": 71,
   "metadata": {},
   "outputs": [
    {
     "data": {
      "text/plain": [
       "4633"
      ]
     },
     "execution_count": 71,
     "metadata": {},
     "output_type": "execute_result"
    }
   ],
   "source": [
    "word_not_in_w2v = list(dict.fromkeys(word_not_in_w2v))\n",
    "len(word_not_in_w2v)"
   ]
  },
  {
   "cell_type": "code",
   "execution_count": 88,
   "metadata": {},
   "outputs": [],
   "source": [
    "missing_words_dict = {}\n",
    "for w in word_not_in_w2v:\n",
    "    missing_words_dict[w] = np.random.normal(0, 1, 150).tolist()"
   ]
  },
  {
   "cell_type": "code",
   "execution_count": 90,
   "metadata": {},
   "outputs": [],
   "source": [
    "dicts.update(missing_words_dict)"
   ]
  },
  {
   "cell_type": "code",
   "execution_count": 93,
   "metadata": {},
   "outputs": [
    {
     "data": {
      "text/plain": [
       "81654"
      ]
     },
     "execution_count": 93,
     "metadata": {},
     "output_type": "execute_result"
    }
   ],
   "source": [
    "len(dicts.keys())"
   ]
  },
  {
   "cell_type": "code",
   "execution_count": 123,
   "metadata": {},
   "outputs": [],
   "source": [
    "X_train = []\n",
    "y_train = []\n",
    "for i in range(0, len(synonym_word1)):\n",
    "    X_train.append(cosine_similarity(dicts[synonym_word1[i]], dicts[synonym_word2[i]]))\n",
    "    y_train.append(1)\n",
    "for i in range(0, len(antonym_word1)):\n",
    "    X_train.append(cosine_similarity(dicts[antonym_word1[i]], dicts[antonym_word1[i]]))\n",
    "    y_train.append(0)\n"
   ]
  },
  {
   "cell_type": "code",
   "execution_count": 124,
   "metadata": {},
   "outputs": [],
   "source": [
    "X_train = np.asarray(X_train)"
   ]
  },
  {
   "cell_type": "code",
   "execution_count": 139,
   "metadata": {},
   "outputs": [],
   "source": [
    "X_train = X_train.reshape(-1, 1)"
   ]
  },
  {
   "cell_type": "code",
   "execution_count": 141,
   "metadata": {},
   "outputs": [
    {
     "data": {
      "text/plain": [
       "(13562, 1)"
      ]
     },
     "execution_count": 141,
     "metadata": {},
     "output_type": "execute_result"
    }
   ],
   "source": [
    "X_train.shape"
   ]
  },
  {
   "cell_type": "code",
   "execution_count": 142,
   "metadata": {},
   "outputs": [],
   "source": [
    "y_train = np.asarray(y_train)"
   ]
  },
  {
   "cell_type": "code",
   "execution_count": 143,
   "metadata": {},
   "outputs": [
    {
     "data": {
      "text/plain": [
       "(13562,)"
      ]
     },
     "execution_count": 143,
     "metadata": {},
     "output_type": "execute_result"
    }
   ],
   "source": [
    "y_train.shape\n"
   ]
  },
  {
   "cell_type": "code",
   "execution_count": 144,
   "metadata": {},
   "outputs": [
    {
     "data": {
      "text/plain": [
       "LogisticRegression()"
      ]
     },
     "execution_count": 144,
     "metadata": {},
     "output_type": "execute_result"
    }
   ],
   "source": [
    "from sklearn.linear_model import LogisticRegression\n",
    "model = LogisticRegression()\n",
    "model.fit(X_train, y_train)"
   ]
  },
  {
   "cell_type": "code",
   "execution_count": 147,
   "metadata": {},
   "outputs": [],
   "source": [
    "n_test = pd.read_csv(\"400_noun_pairs.txt\", sep='\\t')\n",
    "v_test = pd.read_csv('400_verb_pairs.txt',sep='\\t')\n",
    "a_test = pd.read_csv('600_adj_pairs.txt', sep='\\t')\n",
    "df_test = pd.concat([n_test, v_test, a_test], ignore_index=True)"
   ]
  },
  {
   "cell_type": "code",
   "execution_count": 150,
   "metadata": {},
   "outputs": [
    {
     "data": {
      "text/html": [
       "<div>\n",
       "<style scoped>\n",
       "    .dataframe tbody tr th:only-of-type {\n",
       "        vertical-align: middle;\n",
       "    }\n",
       "\n",
       "    .dataframe tbody tr th {\n",
       "        vertical-align: top;\n",
       "    }\n",
       "\n",
       "    .dataframe thead th {\n",
       "        text-align: right;\n",
       "    }\n",
       "</style>\n",
       "<table border=\"1\" class=\"dataframe\">\n",
       "  <thead>\n",
       "    <tr style=\"text-align: right;\">\n",
       "      <th></th>\n",
       "      <th>index</th>\n",
       "      <th>Word1</th>\n",
       "      <th>Word2</th>\n",
       "      <th>Relation</th>\n",
       "    </tr>\n",
       "  </thead>\n",
       "  <tbody>\n",
       "    <tr>\n",
       "      <th>0</th>\n",
       "      <td>3</td>\n",
       "      <td>dây</td>\n",
       "      <td>dọc</td>\n",
       "      <td>SYN</td>\n",
       "    </tr>\n",
       "    <tr>\n",
       "      <th>1</th>\n",
       "      <td>4</td>\n",
       "      <td>bằng_cớ</td>\n",
       "      <td>chứng_cớ</td>\n",
       "      <td>SYN</td>\n",
       "    </tr>\n",
       "    <tr>\n",
       "      <th>2</th>\n",
       "      <td>7</td>\n",
       "      <td>gông_cùm</td>\n",
       "      <td>gông_xiềng</td>\n",
       "      <td>SYN</td>\n",
       "    </tr>\n",
       "    <tr>\n",
       "      <th>3</th>\n",
       "      <td>8</td>\n",
       "      <td>nhân_tài</td>\n",
       "      <td>tài_năng</td>\n",
       "      <td>SYN</td>\n",
       "    </tr>\n",
       "    <tr>\n",
       "      <th>4</th>\n",
       "      <td>11</td>\n",
       "      <td>dạ_hương</td>\n",
       "      <td>dạ_lý_hương</td>\n",
       "      <td>SYN</td>\n",
       "    </tr>\n",
       "    <tr>\n",
       "      <th>...</th>\n",
       "      <td>...</td>\n",
       "      <td>...</td>\n",
       "      <td>...</td>\n",
       "      <td>...</td>\n",
       "    </tr>\n",
       "    <tr>\n",
       "      <th>695</th>\n",
       "      <td>1384</td>\n",
       "      <td>vất_vả</td>\n",
       "      <td>nặng_nhọc</td>\n",
       "      <td>SYN</td>\n",
       "    </tr>\n",
       "    <tr>\n",
       "      <th>696</th>\n",
       "      <td>1389</td>\n",
       "      <td>dong_dỏng</td>\n",
       "      <td>thon_thả</td>\n",
       "      <td>SYN</td>\n",
       "    </tr>\n",
       "    <tr>\n",
       "      <th>697</th>\n",
       "      <td>1390</td>\n",
       "      <td>tươm</td>\n",
       "      <td>tướp</td>\n",
       "      <td>SYN</td>\n",
       "    </tr>\n",
       "    <tr>\n",
       "      <th>698</th>\n",
       "      <td>1391</td>\n",
       "      <td>trống_không</td>\n",
       "      <td>trống_trơn</td>\n",
       "      <td>SYN</td>\n",
       "    </tr>\n",
       "    <tr>\n",
       "      <th>699</th>\n",
       "      <td>1393</td>\n",
       "      <td>tuyệt_vời</td>\n",
       "      <td>đại</td>\n",
       "      <td>SYN</td>\n",
       "    </tr>\n",
       "  </tbody>\n",
       "</table>\n",
       "<p>700 rows × 4 columns</p>\n",
       "</div>"
      ],
      "text/plain": [
       "     index        Word1        Word2 Relation\n",
       "0        3          dây          dọc      SYN\n",
       "1        4      bằng_cớ     chứng_cớ      SYN\n",
       "2        7     gông_cùm   gông_xiềng      SYN\n",
       "3        8     nhân_tài     tài_năng      SYN\n",
       "4       11     dạ_hương  dạ_lý_hương      SYN\n",
       "..     ...          ...          ...      ...\n",
       "695   1384       vất_vả    nặng_nhọc      SYN\n",
       "696   1389    dong_dỏng     thon_thả      SYN\n",
       "697   1390         tươm         tướp      SYN\n",
       "698   1391  trống_không   trống_trơn      SYN\n",
       "699   1393    tuyệt_vời          đại      SYN\n",
       "\n",
       "[700 rows x 4 columns]"
      ]
     },
     "execution_count": 150,
     "metadata": {},
     "output_type": "execute_result"
    }
   ],
   "source": [
    "ant_test = df_test.loc[df_test['Relation']=='ANT'].reset_index() #700x4\n",
    "syn_test = df_test.loc[df_test['Relation']=='SYN'].reset_index() #700x4\n",
    "syn_test"
   ]
  },
  {
   "cell_type": "code",
   "execution_count": 162,
   "metadata": {},
   "outputs": [],
   "source": [
    "X_test = []\n",
    "y_test = []\n",
    "for i in range(0, 700):\n",
    "    X_test.append(cosine_similarity(dicts[syn_test['Word1'][i]], dicts[syn_test['Word2'][i]]))\n",
    "    y_test.append(1)\n",
    "    X_test.append(cosine_similarity(dicts[ant_test['Word1'][i]], dicts[ant_test['Word2'][i]]))\n",
    "    y_test.append(0)"
   ]
  },
  {
   "cell_type": "code",
   "execution_count": 163,
   "metadata": {},
   "outputs": [],
   "source": [
    "X_test = np.asarray(X_test).reshape(-1, 1)"
   ]
  },
  {
   "cell_type": "code",
   "execution_count": 164,
   "metadata": {},
   "outputs": [
    {
     "data": {
      "text/plain": [
       "(1400, 1)"
      ]
     },
     "execution_count": 164,
     "metadata": {},
     "output_type": "execute_result"
    }
   ],
   "source": [
    "X_test.shape"
   ]
  },
  {
   "cell_type": "code",
   "execution_count": 165,
   "metadata": {},
   "outputs": [
    {
     "data": {
      "text/plain": [
       "(1400,)"
      ]
     },
     "execution_count": 165,
     "metadata": {},
     "output_type": "execute_result"
    }
   ],
   "source": [
    "y_test = np.asarray(y_test)\n",
    "y_test.shape"
   ]
  },
  {
   "cell_type": "code",
   "execution_count": 166,
   "metadata": {},
   "outputs": [],
   "source": [
    "y_pred = model.predict(X_test)"
   ]
  },
  {
   "cell_type": "code",
   "execution_count": 168,
   "metadata": {},
   "outputs": [
    {
     "name": "stdout",
     "output_type": "stream",
     "text": [
      "0.4992857142857143\n"
     ]
    }
   ],
   "source": [
    "score = model.score(X_test, y_test)\n",
    "print(score)"
   ]
  },
  {
   "cell_type": "code",
   "execution_count": null,
   "metadata": {},
   "outputs": [],
   "source": []
  }
 ],
 "metadata": {
  "kernelspec": {
   "display_name": "Python 3",
   "language": "python",
   "name": "python3"
  },
  "language_info": {
   "codemirror_mode": {
    "name": "ipython",
    "version": 3
   },
   "file_extension": ".py",
   "mimetype": "text/x-python",
   "name": "python",
   "nbconvert_exporter": "python",
   "pygments_lexer": "ipython3",
   "version": "3.7.9"
  }
 },
 "nbformat": 4,
 "nbformat_minor": 4
}
